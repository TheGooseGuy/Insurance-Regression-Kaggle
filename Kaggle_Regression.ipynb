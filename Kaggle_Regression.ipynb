{
  "nbformat": 4,
  "nbformat_minor": 0,
  "metadata": {
    "colab": {
      "provenance": [],
      "toc_visible": true,
      "authorship_tag": "ABX9TyPGVVDgBGybNTP1n+kL4Py3",
      "include_colab_link": true
    },
    "kernelspec": {
      "name": "python3",
      "display_name": "Python 3"
    },
    "language_info": {
      "name": "python"
    }
  },
  "cells": [
    {
      "cell_type": "markdown",
      "metadata": {
        "id": "view-in-github",
        "colab_type": "text"
      },
      "source": [
        "<a href=\"https://colab.research.google.com/github/TheGooseGuy/Insurance-Regression-Kaggle/blob/main/Kaggle_Regression.ipynb\" target=\"_parent\"><img src=\"https://colab.research.google.com/assets/colab-badge.svg\" alt=\"Open In Colab\"/></a>"
      ]
    },
    {
      "cell_type": "code",
      "source": [
        "import pandas as pd\n",
        "import matplotlib.pyplot as plt\n",
        "import seaborn as sns\n",
        "import numpy as np\n",
        "import warnings\n",
        "\n",
        "warnings.filterwarnings('ignore')\n",
        "pd.options.display.float_format = '{:,.4f}'.format"
      ],
      "metadata": {
        "id": "t9aXcdw5Lyog"
      },
      "execution_count": 118,
      "outputs": []
    },
    {
      "cell_type": "code",
      "execution_count": 119,
      "metadata": {
        "colab": {
          "base_uri": "https://localhost:8080/"
        },
        "id": "eBz2zhlfIWTZ",
        "outputId": "e114ae68-8203-4189-bbca-2bd390866dfb"
      },
      "outputs": [
        {
          "output_type": "stream",
          "name": "stdout",
          "text": [
            "Drive already mounted at /content/drive; to attempt to forcibly remount, call drive.mount(\"/content/drive\", force_remount=True).\n"
          ]
        }
      ],
      "source": [
        "from google.colab import drive\n",
        "drive.mount('/content/drive')\n",
        "\n",
        "from pandas import read_csv\n",
        "train_data = read_csv('/content/drive/MyDrive/Kaggle/train.csv')\n",
        "test_data = read_csv('/content/drive/MyDrive/Kaggle/test.csv')\n",
        "\n",
        "train_data = pd.DataFrame(train_data)\n",
        "test_data = pd.DataFrame(test_data)"
      ]
    },
    {
      "cell_type": "markdown",
      "source": [
        "# Exploratory Data Analysis (EDA)"
      ],
      "metadata": {
        "id": "WMwsjtXhMGOi"
      }
    },
    {
      "cell_type": "code",
      "source": [
        "print(train_data.shape)\n",
        "print(test_data.shape)"
      ],
      "metadata": {
        "colab": {
          "base_uri": "https://localhost:8080/"
        },
        "id": "GuweVwXNMJwN",
        "outputId": "bb46c1cd-c0d0-44b2-c6d2-1680ad50c234"
      },
      "execution_count": 120,
      "outputs": [
        {
          "output_type": "stream",
          "name": "stdout",
          "text": [
            "(1200000, 21)\n",
            "(800000, 20)\n"
          ]
        }
      ]
    },
    {
      "cell_type": "code",
      "source": [
        "print(train_data.head(5))"
      ],
      "metadata": {
        "colab": {
          "base_uri": "https://localhost:8080/"
        },
        "id": "kJ1vRbj_MOe_",
        "outputId": "f21c0ce9-ee4d-4f92-963b-dafa6126bd42"
      },
      "execution_count": 121,
      "outputs": [
        {
          "output_type": "stream",
          "name": "stdout",
          "text": [
            "   id     Age  Gender  Annual Income Marital Status  Number of Dependents  \\\n",
            "0   0 19.0000  Female    10,049.0000        Married                1.0000   \n",
            "1   1 39.0000  Female    31,678.0000       Divorced                3.0000   \n",
            "2   2 23.0000    Male    25,602.0000       Divorced                3.0000   \n",
            "3   3 21.0000    Male   141,855.0000        Married                2.0000   \n",
            "4   4 21.0000    Male    39,651.0000         Single                1.0000   \n",
            "\n",
            "  Education Level     Occupation  Health Score  Location  ... Previous Claims  \\\n",
            "0      Bachelor's  Self-Employed       22.5988     Urban  ...          2.0000   \n",
            "1        Master's            NaN       15.5697     Rural  ...          1.0000   \n",
            "2     High School  Self-Employed       47.1775  Suburban  ...          1.0000   \n",
            "3      Bachelor's            NaN       10.9381     Rural  ...          1.0000   \n",
            "4      Bachelor's  Self-Employed       20.3761     Rural  ...          0.0000   \n",
            "\n",
            "   Vehicle Age  Credit Score  Insurance Duration           Policy Start Date  \\\n",
            "0      17.0000      372.0000              5.0000  2023-12-23 15:21:39.134960   \n",
            "1      12.0000      694.0000              2.0000  2023-06-12 15:21:39.111551   \n",
            "2      14.0000           NaN              3.0000  2023-09-30 15:21:39.221386   \n",
            "3       0.0000      367.0000              1.0000  2024-06-12 15:21:39.226954   \n",
            "4       8.0000      598.0000              4.0000  2021-12-01 15:21:39.252145   \n",
            "\n",
            "  Customer Feedback Smoking Status Exercise Frequency Property Type  \\\n",
            "0              Poor             No             Weekly         House   \n",
            "1           Average            Yes            Monthly         House   \n",
            "2              Good            Yes             Weekly         House   \n",
            "3              Poor            Yes              Daily     Apartment   \n",
            "4              Poor            Yes             Weekly         House   \n",
            "\n",
            "  Premium Amount  \n",
            "0     2,869.0000  \n",
            "1     1,483.0000  \n",
            "2       567.0000  \n",
            "3       765.0000  \n",
            "4     2,022.0000  \n",
            "\n",
            "[5 rows x 21 columns]\n"
          ]
        }
      ]
    },
    {
      "cell_type": "code",
      "source": [
        "# Check the data type of each column\n",
        "print(train_data.dtypes)\n",
        "print(\"\")\n",
        "print(test_data.dtypes)"
      ],
      "metadata": {
        "colab": {
          "base_uri": "https://localhost:8080/"
        },
        "id": "S-NcW9BLM1GU",
        "outputId": "69c184fc-347d-47be-9146-b56a9078db22"
      },
      "execution_count": 122,
      "outputs": [
        {
          "output_type": "stream",
          "name": "stdout",
          "text": [
            "id                        int64\n",
            "Age                     float64\n",
            "Gender                   object\n",
            "Annual Income           float64\n",
            "Marital Status           object\n",
            "Number of Dependents    float64\n",
            "Education Level          object\n",
            "Occupation               object\n",
            "Health Score            float64\n",
            "Location                 object\n",
            "Policy Type              object\n",
            "Previous Claims         float64\n",
            "Vehicle Age             float64\n",
            "Credit Score            float64\n",
            "Insurance Duration      float64\n",
            "Policy Start Date        object\n",
            "Customer Feedback        object\n",
            "Smoking Status           object\n",
            "Exercise Frequency       object\n",
            "Property Type            object\n",
            "Premium Amount          float64\n",
            "dtype: object\n",
            "\n",
            "id                        int64\n",
            "Age                     float64\n",
            "Gender                   object\n",
            "Annual Income           float64\n",
            "Marital Status           object\n",
            "Number of Dependents    float64\n",
            "Education Level          object\n",
            "Occupation               object\n",
            "Health Score            float64\n",
            "Location                 object\n",
            "Policy Type              object\n",
            "Previous Claims         float64\n",
            "Vehicle Age             float64\n",
            "Credit Score            float64\n",
            "Insurance Duration      float64\n",
            "Policy Start Date        object\n",
            "Customer Feedback        object\n",
            "Smoking Status           object\n",
            "Exercise Frequency       object\n",
            "Property Type            object\n",
            "dtype: object\n"
          ]
        }
      ]
    },
    {
      "cell_type": "code",
      "source": [
        "# combine datasets for EDA and later pre-processing\n",
        "train_data['isTrain'] = 1\n",
        "test_data['isTrain'] = 0\n",
        "combined_data = pd.concat([train_data, test_data], axis=0)"
      ],
      "metadata": {
        "id": "xLHnnIySOAyu"
      },
      "execution_count": 123,
      "outputs": []
    },
    {
      "cell_type": "code",
      "source": [
        "for column in combined_data.columns:\n",
        "    dtype = combined_data[column].dtype\n",
        "    print(f\"Column: {column}\")\n",
        "\n",
        "    if pd.api.types.is_numeric_dtype(dtype):  # Check if column is numeric\n",
        "        print(\"Distribution (Numerical):\")\n",
        "        print(combined_data[column].describe())  # Summary statistics\n",
        "        print()\n",
        "    elif pd.api.types.is_object_dtype(dtype):  # Check if column is object (categorical-like)\n",
        "        print(\"Category Counts (Object):\")\n",
        "        print(combined_data[column].value_counts())  # Count unique values\n",
        "        print()\n",
        "    elif pd.api.types.is_datetime64_any_dtype(dtype):  # Handle datetime columns if needed\n",
        "        print(\"Unique Dates:\")\n",
        "        print(combined_data[column].value_counts())  # Count occurrences of each date\n",
        "        print()\n",
        "    else:\n",
        "        print(\"Unhandled Data Type\")\n",
        "        print()"
      ],
      "metadata": {
        "colab": {
          "base_uri": "https://localhost:8080/"
        },
        "id": "wuyE7UKTOUOP",
        "outputId": "47fd2694-532b-4526-d167-b52c6ad9248d"
      },
      "execution_count": 124,
      "outputs": [
        {
          "output_type": "stream",
          "name": "stdout",
          "text": [
            "Column: id\n",
            "Distribution (Numerical):\n",
            "count   2,000,000.0000\n",
            "mean      999,999.5000\n",
            "std       577,350.4135\n",
            "min             0.0000\n",
            "25%       499,999.7500\n",
            "50%       999,999.5000\n",
            "75%     1,499,999.2500\n",
            "max     1,999,999.0000\n",
            "Name: id, dtype: float64\n",
            "\n",
            "Column: Age\n",
            "Distribution (Numerical):\n",
            "count   1,968,806.0000\n",
            "mean           41.1419\n",
            "std            13.5391\n",
            "min            18.0000\n",
            "25%            30.0000\n",
            "50%            41.0000\n",
            "75%            53.0000\n",
            "max            64.0000\n",
            "Name: Age, dtype: float64\n",
            "\n",
            "Column: Gender\n",
            "Category Counts (Object):\n",
            "Gender\n",
            "Male      1003660\n",
            "Female     996340\n",
            "Name: count, dtype: int64\n",
            "\n",
            "Column: Annual Income\n",
            "Distribution (Numerical):\n",
            "count   1,925,191.0000\n",
            "mean       32,768.6812\n",
            "std        32,188.1361\n",
            "min             1.0000\n",
            "25%         8,021.0000\n",
            "50%        23,957.0000\n",
            "75%        44,641.0000\n",
            "max       149,997.0000\n",
            "Name: Annual Income, dtype: float64\n",
            "\n",
            "Column: Marital Status\n",
            "Category Counts (Object):\n",
            "Marital Status\n",
            "Single      659096\n",
            "Married     656488\n",
            "Divorced    653551\n",
            "Name: count, dtype: int64\n",
            "\n",
            "Column: Number of Dependents\n",
            "Distribution (Numerical):\n",
            "count   1,817,198.0000\n",
            "mean            2.0097\n",
            "std             1.4165\n",
            "min             0.0000\n",
            "25%             1.0000\n",
            "50%             2.0000\n",
            "75%             3.0000\n",
            "max             4.0000\n",
            "Name: Number of Dependents, dtype: float64\n",
            "\n",
            "Column: Education Level\n",
            "Category Counts (Object):\n",
            "Education Level\n",
            "Master's       506370\n",
            "PhD            505975\n",
            "Bachelor's     505457\n",
            "High School    482198\n",
            "Name: count, dtype: int64\n",
            "\n",
            "Column: Occupation\n",
            "Category Counts (Object):\n",
            "Occupation\n",
            "Employed         471324\n",
            "Self-Employed    470636\n",
            "Unemployed       460840\n",
            "Name: count, dtype: int64\n",
            "\n",
            "Column: Health Score\n",
            "Distribution (Numerical):\n",
            "count   1,876,475.0000\n",
            "mean           25.6136\n",
            "std            12.2048\n",
            "min             1.6466\n",
            "25%            15.9187\n",
            "50%            24.5796\n",
            "75%            34.5239\n",
            "max            58.9759\n",
            "Name: Health Score, dtype: float64\n",
            "\n",
            "Column: Location\n",
            "Category Counts (Object):\n",
            "Location\n",
            "Suburban    668732\n",
            "Rural       668067\n",
            "Urban       663201\n",
            "Name: count, dtype: int64\n",
            "\n",
            "Column: Policy Type\n",
            "Category Counts (Object):\n",
            "Policy Type\n",
            "Premium          669475\n",
            "Comprehensive    665822\n",
            "Basic            664703\n",
            "Name: count, dtype: int64\n",
            "\n",
            "Column: Previous Claims\n",
            "Distribution (Numerical):\n",
            "count   1,393,169.0000\n",
            "mean            1.0036\n",
            "std             0.9828\n",
            "min             0.0000\n",
            "25%             0.0000\n",
            "50%             1.0000\n",
            "75%             2.0000\n",
            "max             9.0000\n",
            "Name: Previous Claims, dtype: float64\n",
            "\n",
            "Column: Vehicle Age\n",
            "Distribution (Numerical):\n",
            "count   1,999,991.0000\n",
            "mean            9.5707\n",
            "std             5.7746\n",
            "min             0.0000\n",
            "25%             5.0000\n",
            "50%            10.0000\n",
            "75%            15.0000\n",
            "max            19.0000\n",
            "Name: Vehicle Age, dtype: float64\n",
            "\n",
            "Column: Credit Score\n",
            "Distribution (Numerical):\n",
            "count   1,770,667.0000\n",
            "mean          592.9165\n",
            "std           150.0357\n",
            "min           300.0000\n",
            "25%           468.0000\n",
            "50%           595.0000\n",
            "75%           721.0000\n",
            "max           849.0000\n",
            "Name: Credit Score, dtype: float64\n",
            "\n",
            "Column: Insurance Duration\n",
            "Distribution (Numerical):\n",
            "count   1,999,997.0000\n",
            "mean            5.0185\n",
            "std             2.5941\n",
            "min             1.0000\n",
            "25%             3.0000\n",
            "50%             5.0000\n",
            "75%             7.0000\n",
            "max             9.0000\n",
            "Name: Insurance Duration, dtype: float64\n",
            "\n",
            "Column: Policy Start Date\n",
            "Category Counts (Object):\n",
            "Policy Start Date\n",
            "2022-08-30 15:21:39.134960    232\n",
            "2020-02-08 15:21:39.134960    218\n",
            "2022-02-02 15:21:39.134960    211\n",
            "2023-08-13 15:21:39.155231    200\n",
            "2023-11-02 15:21:39.134960    197\n",
            "                             ... \n",
            "2022-01-06 15:21:39.123645      1\n",
            "2020-11-28 15:21:39.169102      1\n",
            "2021-03-14 15:21:39.243823      1\n",
            "2021-03-29 15:21:39.078837      1\n",
            "2021-10-26 15:21:39.203442      1\n",
            "Name: count, Length: 173790, dtype: int64\n",
            "\n",
            "Column: Customer Feedback\n",
            "Category Counts (Object):\n",
            "Customer Feedback\n",
            "Average    629122\n",
            "Poor       625952\n",
            "Good       614826\n",
            "Name: count, dtype: int64\n",
            "\n",
            "Column: Smoking Status\n",
            "Category Counts (Object):\n",
            "Smoking Status\n",
            "Yes    1003732\n",
            "No      996268\n",
            "Name: count, dtype: int64\n",
            "\n",
            "Column: Exercise Frequency\n",
            "Category Counts (Object):\n",
            "Exercise Frequency\n",
            "Weekly     510693\n",
            "Rarely     499934\n",
            "Monthly    498230\n",
            "Daily      491143\n",
            "Name: count, dtype: int64\n",
            "\n",
            "Column: Property Type\n",
            "Category Counts (Object):\n",
            "Property Type\n",
            "House        667500\n",
            "Condo        666478\n",
            "Apartment    666022\n",
            "Name: count, dtype: int64\n",
            "\n",
            "Column: Premium Amount\n",
            "Distribution (Numerical):\n",
            "count   1,200,000.0000\n",
            "mean        1,102.5448\n",
            "std           864.9989\n",
            "min            20.0000\n",
            "25%           514.0000\n",
            "50%           872.0000\n",
            "75%         1,509.0000\n",
            "max         4,999.0000\n",
            "Name: Premium Amount, dtype: float64\n",
            "\n",
            "Column: isTrain\n",
            "Distribution (Numerical):\n",
            "count   2,000,000.0000\n",
            "mean            0.6000\n",
            "std             0.4899\n",
            "min             0.0000\n",
            "25%             0.0000\n",
            "50%             1.0000\n",
            "75%             1.0000\n",
            "max             1.0000\n",
            "Name: isTrain, dtype: float64\n",
            "\n"
          ]
        }
      ]
    },
    {
      "cell_type": "markdown",
      "source": [
        "# Pre-Processing"
      ],
      "metadata": {
        "id": "sxA6NW8zxpcf"
      }
    },
    {
      "cell_type": "code",
      "source": [
        "# Check the NaN values and count them\n",
        "for column in combined_data:\n",
        "    na_count = combined_data[column].isna().sum()  # Count NaN values\n",
        "    if na_count > 0:\n",
        "        print(f\"Column '{column}' contains {na_count} NaN values\")"
      ],
      "metadata": {
        "colab": {
          "base_uri": "https://localhost:8080/"
        },
        "id": "xMIE2zImxtqj",
        "outputId": "019ecb44-c45f-4fa7-8b03-077aec6dd0f3"
      },
      "execution_count": 125,
      "outputs": [
        {
          "output_type": "stream",
          "name": "stdout",
          "text": [
            "Column 'Age' contains 31194 NaN values\n",
            "Column 'Annual Income' contains 74809 NaN values\n",
            "Column 'Marital Status' contains 30865 NaN values\n",
            "Column 'Number of Dependents' contains 182802 NaN values\n",
            "Column 'Occupation' contains 597200 NaN values\n",
            "Column 'Health Score' contains 123525 NaN values\n",
            "Column 'Previous Claims' contains 606831 NaN values\n",
            "Column 'Vehicle Age' contains 9 NaN values\n",
            "Column 'Credit Score' contains 229333 NaN values\n",
            "Column 'Insurance Duration' contains 3 NaN values\n",
            "Column 'Customer Feedback' contains 130100 NaN values\n",
            "Column 'Premium Amount' contains 800000 NaN values\n"
          ]
        }
      ]
    },
    {
      "cell_type": "code",
      "source": [
        "# Rename columns to lowercase\n",
        "combined_data.columns = combined_data.columns.str.lower()"
      ],
      "metadata": {
        "id": "DLjqF3fPzXCt"
      },
      "execution_count": 126,
      "outputs": []
    },
    {
      "cell_type": "code",
      "source": [
        "# Age\n",
        "\n",
        "# A few ways to deal with missing values\n",
        "# consider replace them with mean, median, mode, or use a model (regression, KNN) to predict missing values\n",
        "\n",
        "combined_data['age'] = combined_data['age'].fillna(combined_data['age'].mean()) # Replace NA with mean value"
      ],
      "metadata": {
        "id": "1Mx5_po6y1fr"
      },
      "execution_count": 127,
      "outputs": []
    },
    {
      "cell_type": "code",
      "source": [
        "# Gender\n",
        "\n",
        "# 'gender_Male'\n",
        "combined_data = pd.get_dummies(combined_data, columns=['gender'], drop_first=True)"
      ],
      "metadata": {
        "id": "PGFeAUgH0oB1"
      },
      "execution_count": 128,
      "outputs": []
    },
    {
      "cell_type": "code",
      "source": [
        "# Annual Income\n",
        "combined_data['annual income'] = combined_data['annual income'].fillna(combined_data['annual income'].mean())\n",
        "print(combined_data['annual income'].describe())\n",
        "\n",
        "# Can also replace the 0.05 quantile with a specific value\n",
        "# combined_data['annual income'].quantile(0.05)"
      ],
      "metadata": {
        "colab": {
          "base_uri": "https://localhost:8080/"
        },
        "id": "e9B92stc2CyV",
        "outputId": "de2f6897-cdb1-467c-c6eb-02d9b1a26428"
      },
      "execution_count": 129,
      "outputs": [
        {
          "output_type": "stream",
          "name": "stdout",
          "text": [
            "count   2,000,000.0000\n",
            "mean       32,768.6812\n",
            "std        31,580.4081\n",
            "min             1.0000\n",
            "25%         8,662.0000\n",
            "50%        24,996.0000\n",
            "75%        43,940.0000\n",
            "max       149,997.0000\n",
            "Name: annual income, dtype: float64\n"
          ]
        }
      ]
    },
    {
      "cell_type": "code",
      "source": [
        "# Marital Status\n",
        "\n",
        "# Fill NaN values with mode, which is \"single\"\n",
        "combined_data['marital status'] = combined_data['marital status'].fillna(combined_data['marital status'].mode()[0])\n",
        "\n",
        "# 'marital status_Married', 'marital status_Single'\n",
        "combined_data = pd.get_dummies(combined_data, columns=['marital status'], drop_first=True)"
      ],
      "metadata": {
        "id": "nBSc-KYK3GAy"
      },
      "execution_count": 130,
      "outputs": []
    },
    {
      "cell_type": "code",
      "source": [
        "# Number of Dependents\n",
        "\n",
        "# Fill NaN values with mean, which is 2\n",
        "combined_data['number of dependents'] = combined_data['number of dependents'].fillna(int(combined_data['number of dependents'].mean()))"
      ],
      "metadata": {
        "id": "_OIlFO0831Mh"
      },
      "execution_count": 131,
      "outputs": []
    },
    {
      "cell_type": "code",
      "source": [
        "# Education Level\n",
        "\n",
        "# 'education level_High School', 'education level_Master's', 'education level_PhD'\n",
        "combined_data = pd.get_dummies(combined_data, columns=['education level'], drop_first=True)"
      ],
      "metadata": {
        "id": "hxAUPDeV4eyv"
      },
      "execution_count": 132,
      "outputs": []
    },
    {
      "cell_type": "code",
      "source": [
        "# Occupation\n",
        "\n",
        "# Column: Occupation\n",
        "# Category Counts (Object):\n",
        "# Occupation\n",
        "# Employed         471324\n",
        "# Self-Employed    470636\n",
        "# Unemployed       460840\n",
        "# Name: count, dtype: int64\n",
        "\n",
        "# Considering that Occupation column is balanced, and it has 597200 NaN values,\n",
        "# I chose to create a new category for it\n",
        "combined_data['occupation'] = combined_data['occupation'].fillna('Unknown')\n",
        "\n",
        "# 'occupation_Self-Employed', 'occupation_Unemployed', 'occupation_Unknown',\n",
        "combined_data = pd.get_dummies(combined_data, columns=['occupation'], drop_first=True)"
      ],
      "metadata": {
        "id": "LCoR0gFB45kY"
      },
      "execution_count": 133,
      "outputs": []
    },
    {
      "cell_type": "code",
      "source": [
        "# Health Score\n",
        "\n",
        "# Fill NaN values with mean, which is 25.6136\n",
        "combined_data['health score'] = combined_data['health score'].fillna(combined_data['health score'].mean())"
      ],
      "metadata": {
        "id": "-CeEvRGI6AOx"
      },
      "execution_count": 134,
      "outputs": []
    },
    {
      "cell_type": "code",
      "source": [
        "# Location\n",
        "\n",
        "# 'location_Suburban', 'location_Urban'\n",
        "combined_data = pd.get_dummies(combined_data, columns = ['location'], drop_first=True)"
      ],
      "metadata": {
        "id": "Gp93kLj66YUP"
      },
      "execution_count": 135,
      "outputs": []
    },
    {
      "cell_type": "code",
      "source": [
        "# Policy Type\n",
        "\n",
        "# 'policy type_Comprehensive', 'policy type_Premium'\n",
        "combined_data = pd.get_dummies(combined_data, columns = ['policy type'], drop_first=True)"
      ],
      "metadata": {
        "id": "tEXbMNjM60Rp"
      },
      "execution_count": 136,
      "outputs": []
    },
    {
      "cell_type": "code",
      "source": [
        "# Previous Claims\n",
        "\n",
        "# Replace NaN values with mean, which is 1\n",
        "combined_data['previous claims'] = combined_data['previous claims'].fillna(int(combined_data['previous claims'].mean()))"
      ],
      "metadata": {
        "id": "3cCzMU3E7RMr"
      },
      "execution_count": 137,
      "outputs": []
    },
    {
      "cell_type": "code",
      "source": [
        "# Vehicle Age\n",
        "\n",
        "# Fill NaN values with mean, which is 9\n",
        "combined_data['vehicle age'] = combined_data['vehicle age'].fillna(int(combined_data['vehicle age'].mean()))"
      ],
      "metadata": {
        "id": "xDLShvjq7p3Z"
      },
      "execution_count": 138,
      "outputs": []
    },
    {
      "cell_type": "code",
      "source": [
        "# Credit Score\n",
        "\n",
        "# Fill NaN values with mean, which is 592\n",
        "combined_data['credit score'] = combined_data['credit score'].fillna(int(combined_data['credit score'].mean()))"
      ],
      "metadata": {
        "id": "TuqE19vQ8Gj3"
      },
      "execution_count": 139,
      "outputs": []
    },
    {
      "cell_type": "code",
      "source": [
        "# Insurance Duration\n",
        "combined_data['insurance duration'] = combined_data['insurance duration'].fillna(combined_data['insurance duration'].mode()[0])"
      ],
      "metadata": {
        "id": "wPdVLM_X87Ya"
      },
      "execution_count": 140,
      "outputs": []
    },
    {
      "cell_type": "code",
      "source": [
        "# Policy Start Date\n",
        "\n",
        "# Convert the 'policy start date' column to datetime format\n",
        "combined_data['policy start date'] = pd.to_datetime(combined_data['policy start date'])\n",
        "\n",
        "combined_data['Year'] = combined_data['policy start date'].dt.year\n",
        "combined_data['Month'] = combined_data['policy start date'].dt.month\n",
        "\n",
        "combined_data = combined_data.drop('policy start date', axis=1)"
      ],
      "metadata": {
        "id": "y1HtlBd99KFb"
      },
      "execution_count": 141,
      "outputs": []
    },
    {
      "cell_type": "code",
      "source": [
        "# Customer Feedback\n",
        "\n",
        "combined_data['customer feedback'] = combined_data['customer feedback'].fillna('Unknown')\n",
        "# 'customer feedback_Good', 'customer feedback_Poor', 'customer feedback_Unknown'\n",
        "combined_data = pd.get_dummies(combined_data, columns=['customer feedback'], drop_first=True)"
      ],
      "metadata": {
        "id": "spoamuN69xnL"
      },
      "execution_count": 142,
      "outputs": []
    },
    {
      "cell_type": "code",
      "source": [
        "# Smoking Status\n",
        "\n",
        "# 'smoking status_Yes'\n",
        "combined_data = pd.get_dummies(combined_data, columns=['smoking status'], drop_first=True)"
      ],
      "metadata": {
        "id": "04KYiMGk-N_t"
      },
      "execution_count": 143,
      "outputs": []
    },
    {
      "cell_type": "code",
      "source": [
        "# Exercise Frequency\n",
        "\n",
        "# 'exercise frequency_Monthly', 'exercise frequency_Rarely', 'exercise frequency_Weekly'\n",
        "combined_data = pd.get_dummies(combined_data, columns=['exercise frequency'], drop_first=True)"
      ],
      "metadata": {
        "id": "HFOGbD3i-bFw"
      },
      "execution_count": 144,
      "outputs": []
    },
    {
      "cell_type": "code",
      "source": [
        "# Property Type\n",
        "\n",
        "# 'property type_Condo', 'property type_House'\n",
        "combined_data = pd.get_dummies(combined_data, columns=['property type'], drop_first=True)"
      ],
      "metadata": {
        "id": "Q_olGKYj-r--"
      },
      "execution_count": 145,
      "outputs": []
    },
    {
      "cell_type": "code",
      "source": [
        "# Convert all Boolean columns in the DataFrame to 1 and 0\n",
        "combined_data[combined_data.select_dtypes(include=['bool']).columns] = combined_data.select_dtypes(include=['bool']).astype(int)"
      ],
      "metadata": {
        "id": "b2pkaJXPAsNg"
      },
      "execution_count": 146,
      "outputs": []
    },
    {
      "cell_type": "code",
      "source": [
        "train_data = combined_data[combined_data['istrain'] == 1]\n",
        "test_data = combined_data[combined_data['istrain'] == 0]"
      ],
      "metadata": {
        "id": "Q0fr7ICy_rsr"
      },
      "execution_count": 147,
      "outputs": []
    },
    {
      "cell_type": "markdown",
      "source": [
        "# Modelling"
      ],
      "metadata": {
        "id": "BVoC8gKS_KJf"
      }
    },
    {
      "cell_type": "markdown",
      "source": [
        "## Linear Regression"
      ],
      "metadata": {
        "id": "5IUiMoV7_OgJ"
      }
    },
    {
      "cell_type": "code",
      "source": [
        "from sklearn.model_selection import train_test_split\n",
        "\n",
        "X = train_data.drop(['premium amount', 'id'], axis=1)\n",
        "y = train_data['premium amount']\n",
        "X_train, X_test, y_train, y_test = train_test_split(X, y, test_size=0.2, random_state=64)"
      ],
      "metadata": {
        "id": "JL5ul5TF_od3"
      },
      "execution_count": 174,
      "outputs": []
    },
    {
      "cell_type": "code",
      "source": [
        "# Standardize data\n",
        "from sklearn.preprocessing import StandardScaler\n",
        "scaler = StandardScaler()\n",
        "X_train = scaler.fit_transform(X_train)\n",
        "X_test = scaler.transform(X_test)\n",
        "y_train = scaler.fit_transform(y_train.values.reshape(-1, 1))\n",
        "y_test = scaler.transform(y_test.values.reshape(-1, 1))"
      ],
      "metadata": {
        "id": "rkHGjPxWBaA1"
      },
      "execution_count": 175,
      "outputs": []
    },
    {
      "cell_type": "code",
      "source": [
        "from sklearn.linear_model import LinearRegression\n",
        "from sklearn.metrics import mean_squared_error, r2_score\n",
        "from math import sqrt\n",
        "import statsmodels.api as sm\n",
        "\n",
        "# Initialize the model\n",
        "model = sm.OLS(X_train, y_train)\n",
        "model = LinearRegression()\n",
        "model.fit(X_train, y_train)\n",
        "\n",
        "# Make predictions on training and test sets\n",
        "y_train_pred = model.predict(X_train)\n",
        "y_test_pred = model.predict(X_test)\n",
        "\n",
        "# Calculate metrics\n",
        "train_mse = mean_squared_error(y_train, y_train_pred)\n",
        "train_r2 = r2_score(y_train, y_train_pred)\n",
        "test_mse = mean_squared_error(y_test, y_test_pred)\n",
        "test_r2 = r2_score(y_test, y_test_pred)\n",
        "\n",
        "# Print the results\n",
        "print(f\"Root Train Mean Squared Error MSE: {sqrt(train_mse):.4f}\")\n",
        "print(f\"Train R-squared                  : {train_r2:.4f}\")\n",
        "print(f\"Root Test Mean Squared Error MSE : {sqrt(test_mse):.4f}\")\n",
        "print(f\"Test R-squared                   : {test_r2:.4f}\")\n",
        "# Plotting prediction line\n",
        "plt.figure(figsize=(10, 6))\n",
        "plt.scatter(y_test, y_test_pred, color='blue', alpha=0.5, label='Predicted')\n",
        "plt.scatter(y_test, y_test, color='green', alpha=0.5, label='Actual')\n",
        "plt.xlabel('Actual Insurance')\n",
        "plt.ylabel('Predicted Insurance')\n",
        "plt.title('Actual vs Predicted Insurance')\n",
        "plt.legend()\n",
        "plt.show()"
      ],
      "metadata": {
        "colab": {
          "base_uri": "https://localhost:8080/",
          "height": 633
        },
        "id": "jOLg3nut__VC",
        "outputId": "dd990a88-dd3c-45dc-9cbf-466608776af1"
      },
      "execution_count": 176,
      "outputs": [
        {
          "output_type": "stream",
          "name": "stdout",
          "text": [
            "Root Train Mean Squared Error MSE: 0.9981\n",
            "Train R-squared                  : 0.0037\n",
            "Root Test Mean Squared Error MSE : 0.9938\n",
            "Test R-squared                   : 0.0034\n"
          ]
        },
        {
          "output_type": "display_data",
          "data": {
            "text/plain": [
              "<Figure size 1000x600 with 1 Axes>"
            ],
            "image/png": "[encoded data removed]"
          },
          "metadata": {}
        }
      ]
    },
    {
      "cell_type": "code",
      "source": [
        "# using statsmodels\n",
        "import statsmodels.api as sm\n",
        "\n",
        "\n",
        "# ols model with intercept added to predictor\n",
        "ols_sm = sm.OLS(y_train, sm.add_constant(X_train))\n",
        "\n",
        "# fitted model and summary\n",
        "ols_sm_results = ols_sm.fit()\n",
        "ols_sm_results.summary()"
      ],
      "metadata": {
        "colab": {
          "base_uri": "https://localhost:8080/",
          "height": 1000
        },
        "id": "lWu09tb1D64J",
        "outputId": "210656f6-7d70-40c5-c9fa-a8bffa1669a5"
      },
      "execution_count": 173,
      "outputs": [
        {
          "output_type": "execute_result",
          "data": {
            "text/plain": [
              "<class 'statsmodels.iolib.summary.Summary'>\n",
              "\"\"\"\n",
              "                            OLS Regression Results                            \n",
              "==============================================================================\n",
              "Dep. Variable:                      y   R-squared:                       0.004\n",
              "Model:                            OLS   Adj. R-squared:                  0.004\n",
              "Method:                 Least Squares   F-statistic:                     115.2\n",
              "Date:                Sat, 14 Dec 2024   Prob (F-statistic):               0.00\n",
              "Time:                        21:27:42   Log-Likelihood:            -1.3603e+06\n",
              "No. Observations:              960000   AIC:                         2.721e+06\n",
              "Df Residuals:                  959967   BIC:                         2.721e+06\n",
              "Df Model:                          32                                         \n",
              "Covariance Type:            nonrobust                                         \n",
              "==============================================================================\n",
              "                 coef    std err          t      P>|t|      [0.025      0.975]\n",
              "------------------------------------------------------------------------------\n",
              "const      -5.814e-18      0.001  -5.71e-15      1.000      -0.002       0.002\n",
              "x1            -0.0021      0.001     -2.088      0.037      -0.004      -0.000\n",
              "x2            -0.0203      0.001    -19.528      0.000      -0.022      -0.018\n",
              "x3            -0.0004      0.001     -0.436      0.663      -0.002       0.002\n",
              "x4             0.0146      0.001     14.303      0.000       0.013       0.017\n",
              "x5             0.0404      0.001     39.562      0.000       0.038       0.042\n",
              "x6            -0.0001      0.001     -0.103      0.918      -0.002       0.002\n",
              "x7            -0.0307      0.001    -29.597      0.000      -0.033      -0.029\n",
              "x8         -4.392e-05      0.001     -0.043      0.966      -0.002       0.002\n",
              "x9          1.924e-18   7.93e-19      2.427      0.015     3.7e-19    3.48e-18\n",
              "x10            0.0002      0.001      0.154      0.877      -0.002       0.002\n",
              "x11           -0.0006      0.001     -0.473      0.636      -0.003       0.002\n",
              "x12            0.0034      0.001      2.854      0.004       0.001       0.006\n",
              "x13            0.0008      0.001      0.625      0.532      -0.002       0.003\n",
              "x14           -0.0007      0.001     -0.581      0.561      -0.003       0.002\n",
              "x15           -0.0007      0.001     -0.592      0.554      -0.003       0.002\n",
              "x16           -0.0002      0.001     -0.172      0.863      -0.003       0.002\n",
              "x17           -0.0001      0.001     -0.114      0.909      -0.003       0.002\n",
              "x18           -0.0073      0.001     -5.717      0.000      -0.010      -0.005\n",
              "x19            0.0006      0.001      0.493      0.622      -0.002       0.003\n",
              "x20            0.0011      0.001      0.933      0.351      -0.001       0.003\n",
              "x21           -0.0012      0.001     -1.018      0.309      -0.004       0.001\n",
              "x22           -0.0010      0.001     -0.817      0.414      -0.003       0.001\n",
              "x23           -0.0105      0.001     -9.989      0.000      -0.013      -0.008\n",
              "x24            0.0047      0.001      4.434      0.000       0.003       0.007\n",
              "x25            0.0010      0.001      0.873      0.382      -0.001       0.003\n",
              "x26            0.0029      0.001      2.440      0.015       0.001       0.005\n",
              "x27            0.0298      0.001     27.542      0.000       0.028       0.032\n",
              "x28           -0.0004      0.001     -0.406      0.685      -0.002       0.002\n",
              "x29           -0.0002      0.001     -0.172      0.864      -0.003       0.002\n",
              "x30           -0.0009      0.001     -0.685      0.493      -0.003       0.002\n",
              "x31           -0.0008      0.001     -0.658      0.510      -0.003       0.002\n",
              "x32           -0.0013      0.001     -1.132      0.258      -0.004       0.001\n",
              "x33           -0.0017      0.001     -1.441      0.150      -0.004       0.001\n",
              "==============================================================================\n",
              "Omnibus:                   190501.381   Durbin-Watson:                   1.998\n",
              "Prob(Omnibus):                  0.000   Jarque-Bera (JB):           348739.861\n",
              "Skew:                           1.255   Prob(JB):                         0.00\n",
              "Kurtosis:                       4.556   Cond. No.                     2.25e+15\n",
              "==============================================================================\n",
              "\n",
              "Notes:\n",
              "[1] Standard Errors assume that the covariance matrix of the errors is correctly specified.\n",
              "[2] The smallest eigenvalue is 2.86e-25. This might indicate that there are\n",
              "strong multicollinearity problems or that the design matrix is singular.\n",
              "\"\"\""
            ],
            "text/html": [
              "<table class=\"simpletable\">\n",
              "<caption>OLS Regression Results</caption>\n",
              "<tr>\n",
              "  <th>Dep. Variable:</th>            <td>y</td>        <th>  R-squared:         </th>  <td>   0.004</td>  \n",
              "</tr>\n",
              "<tr>\n",
              "  <th>Model:</th>                   <td>OLS</td>       <th>  Adj. R-squared:    </th>  <td>   0.004</td>  \n",
              "</tr>\n",
              "<tr>\n",
              "  <th>Method:</th>             <td>Least Squares</td>  <th>  F-statistic:       </th>  <td>   115.2</td>  \n",
              "</tr>\n",
              "<tr>\n",
              "  <th>Date:</th>             <td>Sat, 14 Dec 2024</td> <th>  Prob (F-statistic):</th>   <td>  0.00</td>   \n",
              "</tr>\n",
              "<tr>\n",
              "  <th>Time:</th>                 <td>21:27:42</td>     <th>  Log-Likelihood:    </th> <td>-1.3603e+06</td>\n",
              "</tr>\n",
              "<tr>\n",
              "  <th>No. Observations:</th>      <td>960000</td>      <th>  AIC:               </th>  <td>2.721e+06</td> \n",
              "</tr>\n",
              "<tr>\n",
              "  <th>Df Residuals:</th>          <td>959967</td>      <th>  BIC:               </th>  <td>2.721e+06</td> \n",
              "</tr>\n",
              "<tr>\n",
              "  <th>Df Model:</th>              <td>    32</td>      <th>                     </th>      <td> </td>     \n",
              "</tr>\n",
              "<tr>\n",
              "  <th>Covariance Type:</th>      <td>nonrobust</td>    <th>                     </th>      <td> </td>     \n",
              "</tr>\n",
              "</table>\n",
              "<table class=\"simpletable\">\n",
              "<tr>\n",
              "    <td></td>       <th>coef</th>     <th>std err</th>      <th>t</th>      <th>P>|t|</th>  <th>[0.025</th>    <th>0.975]</th>  \n",
              "</tr>\n",
              "<tr>\n",
              "  <th>const</th> <td>-5.814e-18</td> <td>    0.001</td> <td>-5.71e-15</td> <td> 1.000</td> <td>   -0.002</td> <td>    0.002</td>\n",
              "</tr>\n",
              "<tr>\n",
              "  <th>x1</th>    <td>   -0.0021</td> <td>    0.001</td> <td>   -2.088</td> <td> 0.037</td> <td>   -0.004</td> <td>   -0.000</td>\n",
              "</tr>\n",
              "<tr>\n",
              "  <th>x2</th>    <td>   -0.0203</td> <td>    0.001</td> <td>  -19.528</td> <td> 0.000</td> <td>   -0.022</td> <td>   -0.018</td>\n",
              "</tr>\n",
              "<tr>\n",
              "  <th>x3</th>    <td>   -0.0004</td> <td>    0.001</td> <td>   -0.436</td> <td> 0.663</td> <td>   -0.002</td> <td>    0.002</td>\n",
              "</tr>\n",
              "<tr>\n",
              "  <th>x4</th>    <td>    0.0146</td> <td>    0.001</td> <td>   14.303</td> <td> 0.000</td> <td>    0.013</td> <td>    0.017</td>\n",
              "</tr>\n",
              "<tr>\n",
              "  <th>x5</th>    <td>    0.0404</td> <td>    0.001</td> <td>   39.562</td> <td> 0.000</td> <td>    0.038</td> <td>    0.042</td>\n",
              "</tr>\n",
              "<tr>\n",
              "  <th>x6</th>    <td>   -0.0001</td> <td>    0.001</td> <td>   -0.103</td> <td> 0.918</td> <td>   -0.002</td> <td>    0.002</td>\n",
              "</tr>\n",
              "<tr>\n",
              "  <th>x7</th>    <td>   -0.0307</td> <td>    0.001</td> <td>  -29.597</td> <td> 0.000</td> <td>   -0.033</td> <td>   -0.029</td>\n",
              "</tr>\n",
              "<tr>\n",
              "  <th>x8</th>    <td>-4.392e-05</td> <td>    0.001</td> <td>   -0.043</td> <td> 0.966</td> <td>   -0.002</td> <td>    0.002</td>\n",
              "</tr>\n",
              "<tr>\n",
              "  <th>x9</th>    <td> 1.924e-18</td> <td> 7.93e-19</td> <td>    2.427</td> <td> 0.015</td> <td>  3.7e-19</td> <td> 3.48e-18</td>\n",
              "</tr>\n",
              "<tr>\n",
              "  <th>x10</th>   <td>    0.0002</td> <td>    0.001</td> <td>    0.154</td> <td> 0.877</td> <td>   -0.002</td> <td>    0.002</td>\n",
              "</tr>\n",
              "<tr>\n",
              "  <th>x11</th>   <td>   -0.0006</td> <td>    0.001</td> <td>   -0.473</td> <td> 0.636</td> <td>   -0.003</td> <td>    0.002</td>\n",
              "</tr>\n",
              "<tr>\n",
              "  <th>x12</th>   <td>    0.0034</td> <td>    0.001</td> <td>    2.854</td> <td> 0.004</td> <td>    0.001</td> <td>    0.006</td>\n",
              "</tr>\n",
              "<tr>\n",
              "  <th>x13</th>   <td>    0.0008</td> <td>    0.001</td> <td>    0.625</td> <td> 0.532</td> <td>   -0.002</td> <td>    0.003</td>\n",
              "</tr>\n",
              "<tr>\n",
              "  <th>x14</th>   <td>   -0.0007</td> <td>    0.001</td> <td>   -0.581</td> <td> 0.561</td> <td>   -0.003</td> <td>    0.002</td>\n",
              "</tr>\n",
              "<tr>\n",
              "  <th>x15</th>   <td>   -0.0007</td> <td>    0.001</td> <td>   -0.592</td> <td> 0.554</td> <td>   -0.003</td> <td>    0.002</td>\n",
              "</tr>\n",
              "<tr>\n",
              "  <th>x16</th>   <td>   -0.0002</td> <td>    0.001</td> <td>   -0.172</td> <td> 0.863</td> <td>   -0.003</td> <td>    0.002</td>\n",
              "</tr>\n",
              "<tr>\n",
              "  <th>x17</th>   <td>   -0.0001</td> <td>    0.001</td> <td>   -0.114</td> <td> 0.909</td> <td>   -0.003</td> <td>    0.002</td>\n",
              "</tr>\n",
              "<tr>\n",
              "  <th>x18</th>   <td>   -0.0073</td> <td>    0.001</td> <td>   -5.717</td> <td> 0.000</td> <td>   -0.010</td> <td>   -0.005</td>\n",
              "</tr>\n",
              "<tr>\n",
              "  <th>x19</th>   <td>    0.0006</td> <td>    0.001</td> <td>    0.493</td> <td> 0.622</td> <td>   -0.002</td> <td>    0.003</td>\n",
              "</tr>\n",
              "<tr>\n",
              "  <th>x20</th>   <td>    0.0011</td> <td>    0.001</td> <td>    0.933</td> <td> 0.351</td> <td>   -0.001</td> <td>    0.003</td>\n",
              "</tr>\n",
              "<tr>\n",
              "  <th>x21</th>   <td>   -0.0012</td> <td>    0.001</td> <td>   -1.018</td> <td> 0.309</td> <td>   -0.004</td> <td>    0.001</td>\n",
              "</tr>\n",
              "<tr>\n",
              "  <th>x22</th>   <td>   -0.0010</td> <td>    0.001</td> <td>   -0.817</td> <td> 0.414</td> <td>   -0.003</td> <td>    0.001</td>\n",
              "</tr>\n",
              "<tr>\n",
              "  <th>x23</th>   <td>   -0.0105</td> <td>    0.001</td> <td>   -9.989</td> <td> 0.000</td> <td>   -0.013</td> <td>   -0.008</td>\n",
              "</tr>\n",
              "<tr>\n",
              "  <th>x24</th>   <td>    0.0047</td> <td>    0.001</td> <td>    4.434</td> <td> 0.000</td> <td>    0.003</td> <td>    0.007</td>\n",
              "</tr>\n",
              "<tr>\n",
              "  <th>x25</th>   <td>    0.0010</td> <td>    0.001</td> <td>    0.873</td> <td> 0.382</td> <td>   -0.001</td> <td>    0.003</td>\n",
              "</tr>\n",
              "<tr>\n",
              "  <th>x26</th>   <td>    0.0029</td> <td>    0.001</td> <td>    2.440</td> <td> 0.015</td> <td>    0.001</td> <td>    0.005</td>\n",
              "</tr>\n",
              "<tr>\n",
              "  <th>x27</th>   <td>    0.0298</td> <td>    0.001</td> <td>   27.542</td> <td> 0.000</td> <td>    0.028</td> <td>    0.032</td>\n",
              "</tr>\n",
              "<tr>\n",
              "  <th>x28</th>   <td>   -0.0004</td> <td>    0.001</td> <td>   -0.406</td> <td> 0.685</td> <td>   -0.002</td> <td>    0.002</td>\n",
              "</tr>\n",
              "<tr>\n",
              "  <th>x29</th>   <td>   -0.0002</td> <td>    0.001</td> <td>   -0.172</td> <td> 0.864</td> <td>   -0.003</td> <td>    0.002</td>\n",
              "</tr>\n",
              "<tr>\n",
              "  <th>x30</th>   <td>   -0.0009</td> <td>    0.001</td> <td>   -0.685</td> <td> 0.493</td> <td>   -0.003</td> <td>    0.002</td>\n",
              "</tr>\n",
              "<tr>\n",
              "  <th>x31</th>   <td>   -0.0008</td> <td>    0.001</td> <td>   -0.658</td> <td> 0.510</td> <td>   -0.003</td> <td>    0.002</td>\n",
              "</tr>\n",
              "<tr>\n",
              "  <th>x32</th>   <td>   -0.0013</td> <td>    0.001</td> <td>   -1.132</td> <td> 0.258</td> <td>   -0.004</td> <td>    0.001</td>\n",
              "</tr>\n",
              "<tr>\n",
              "  <th>x33</th>   <td>   -0.0017</td> <td>    0.001</td> <td>   -1.441</td> <td> 0.150</td> <td>   -0.004</td> <td>    0.001</td>\n",
              "</tr>\n",
              "</table>\n",
              "<table class=\"simpletable\">\n",
              "<tr>\n",
              "  <th>Omnibus:</th>       <td>190501.381</td> <th>  Durbin-Watson:     </th>  <td>   1.998</td> \n",
              "</tr>\n",
              "<tr>\n",
              "  <th>Prob(Omnibus):</th>   <td> 0.000</td>   <th>  Jarque-Bera (JB):  </th> <td>348739.861</td>\n",
              "</tr>\n",
              "<tr>\n",
              "  <th>Skew:</th>            <td> 1.255</td>   <th>  Prob(JB):          </th>  <td>    0.00</td> \n",
              "</tr>\n",
              "<tr>\n",
              "  <th>Kurtosis:</th>        <td> 4.556</td>   <th>  Cond. No.          </th>  <td>2.25e+15</td> \n",
              "</tr>\n",
              "</table><br/><br/>Notes:<br/>[1] Standard Errors assume that the covariance matrix of the errors is correctly specified.<br/>[2] The smallest eigenvalue is 2.86e-25. This might indicate that there are<br/>strong multicollinearity problems or that the design matrix is singular."
            ],
            "text/latex": "\\begin{center}\n\\begin{tabular}{lclc}\n\\toprule\n\\textbf{Dep. Variable:}    &        y         & \\textbf{  R-squared:         } &      0.004   \\\\\n\\textbf{Model:}            &       OLS        & \\textbf{  Adj. R-squared:    } &      0.004   \\\\\n\\textbf{Method:}           &  Least Squares   & \\textbf{  F-statistic:       } &      115.2   \\\\\n\\textbf{Date:}             & Sat, 14 Dec 2024 & \\textbf{  Prob (F-statistic):} &      0.00    \\\\\n\\textbf{Time:}             &     21:27:42     & \\textbf{  Log-Likelihood:    } & -1.3603e+06  \\\\\n\\textbf{No. Observations:} &      960000      & \\textbf{  AIC:               } &  2.721e+06   \\\\\n\\textbf{Df Residuals:}     &      959967      & \\textbf{  BIC:               } &  2.721e+06   \\\\\n\\textbf{Df Model:}         &          32      & \\textbf{                     } &              \\\\\n\\textbf{Covariance Type:}  &    nonrobust     & \\textbf{                     } &              \\\\\n\\bottomrule\n\\end{tabular}\n\\begin{tabular}{lcccccc}\n               & \\textbf{coef} & \\textbf{std err} & \\textbf{t} & \\textbf{P$> |$t$|$} & \\textbf{[0.025} & \\textbf{0.975]}  \\\\\n\\midrule\n\\textbf{const} &   -5.814e-18  &        0.001     & -5.71e-15  &         1.000        &       -0.002    &        0.002     \\\\\n\\textbf{x1}    &      -0.0021  &        0.001     &    -2.088  &         0.037        &       -0.004    &       -0.000     \\\\\n\\textbf{x2}    &      -0.0203  &        0.001     &   -19.528  &         0.000        &       -0.022    &       -0.018     \\\\\n\\textbf{x3}    &      -0.0004  &        0.001     &    -0.436  &         0.663        &       -0.002    &        0.002     \\\\\n\\textbf{x4}    &       0.0146  &        0.001     &    14.303  &         0.000        &        0.013    &        0.017     \\\\\n\\textbf{x5}    &       0.0404  &        0.001     &    39.562  &         0.000        &        0.038    &        0.042     \\\\\n\\textbf{x6}    &      -0.0001  &        0.001     &    -0.103  &         0.918        &       -0.002    &        0.002     \\\\\n\\textbf{x7}    &      -0.0307  &        0.001     &   -29.597  &         0.000        &       -0.033    &       -0.029     \\\\\n\\textbf{x8}    &   -4.392e-05  &        0.001     &    -0.043  &         0.966        &       -0.002    &        0.002     \\\\\n\\textbf{x9}    &    1.924e-18  &     7.93e-19     &     2.427  &         0.015        &      3.7e-19    &     3.48e-18     \\\\\n\\textbf{x10}   &       0.0002  &        0.001     &     0.154  &         0.877        &       -0.002    &        0.002     \\\\\n\\textbf{x11}   &      -0.0006  &        0.001     &    -0.473  &         0.636        &       -0.003    &        0.002     \\\\\n\\textbf{x12}   &       0.0034  &        0.001     &     2.854  &         0.004        &        0.001    &        0.006     \\\\\n\\textbf{x13}   &       0.0008  &        0.001     &     0.625  &         0.532        &       -0.002    &        0.003     \\\\\n\\textbf{x14}   &      -0.0007  &        0.001     &    -0.581  &         0.561        &       -0.003    &        0.002     \\\\\n\\textbf{x15}   &      -0.0007  &        0.001     &    -0.592  &         0.554        &       -0.003    &        0.002     \\\\\n\\textbf{x16}   &      -0.0002  &        0.001     &    -0.172  &         0.863        &       -0.003    &        0.002     \\\\\n\\textbf{x17}   &      -0.0001  &        0.001     &    -0.114  &         0.909        &       -0.003    &        0.002     \\\\\n\\textbf{x18}   &      -0.0073  &        0.001     &    -5.717  &         0.000        &       -0.010    &       -0.005     \\\\\n\\textbf{x19}   &       0.0006  &        0.001     &     0.493  &         0.622        &       -0.002    &        0.003     \\\\\n\\textbf{x20}   &       0.0011  &        0.001     &     0.933  &         0.351        &       -0.001    &        0.003     \\\\\n\\textbf{x21}   &      -0.0012  &        0.001     &    -1.018  &         0.309        &       -0.004    &        0.001     \\\\\n\\textbf{x22}   &      -0.0010  &        0.001     &    -0.817  &         0.414        &       -0.003    &        0.001     \\\\\n\\textbf{x23}   &      -0.0105  &        0.001     &    -9.989  &         0.000        &       -0.013    &       -0.008     \\\\\n\\textbf{x24}   &       0.0047  &        0.001     &     4.434  &         0.000        &        0.003    &        0.007     \\\\\n\\textbf{x25}   &       0.0010  &        0.001     &     0.873  &         0.382        &       -0.001    &        0.003     \\\\\n\\textbf{x26}   &       0.0029  &        0.001     &     2.440  &         0.015        &        0.001    &        0.005     \\\\\n\\textbf{x27}   &       0.0298  &        0.001     &    27.542  &         0.000        &        0.028    &        0.032     \\\\\n\\textbf{x28}   &      -0.0004  &        0.001     &    -0.406  &         0.685        &       -0.002    &        0.002     \\\\\n\\textbf{x29}   &      -0.0002  &        0.001     &    -0.172  &         0.864        &       -0.003    &        0.002     \\\\\n\\textbf{x30}   &      -0.0009  &        0.001     &    -0.685  &         0.493        &       -0.003    &        0.002     \\\\\n\\textbf{x31}   &      -0.0008  &        0.001     &    -0.658  &         0.510        &       -0.003    &        0.002     \\\\\n\\textbf{x32}   &      -0.0013  &        0.001     &    -1.132  &         0.258        &       -0.004    &        0.001     \\\\\n\\textbf{x33}   &      -0.0017  &        0.001     &    -1.441  &         0.150        &       -0.004    &        0.001     \\\\\n\\bottomrule\n\\end{tabular}\n\\begin{tabular}{lclc}\n\\textbf{Omnibus:}       & 190501.381 & \\textbf{  Durbin-Watson:     } &     1.998   \\\\\n\\textbf{Prob(Omnibus):} &    0.000   & \\textbf{  Jarque-Bera (JB):  } & 348739.861  \\\\\n\\textbf{Skew:}          &    1.255   & \\textbf{  Prob(JB):          } &      0.00   \\\\\n\\textbf{Kurtosis:}      &    4.556   & \\textbf{  Cond. No.          } &  2.25e+15   \\\\\n\\bottomrule\n\\end{tabular}\n%\\caption{OLS Regression Results}\n\\end{center}\n\nNotes: \\newline\n [1] Standard Errors assume that the covariance matrix of the errors is correctly specified. \\newline\n [2] The smallest eigenvalue is 2.86e-25. This might indicate that there are \\newline\n strong multicollinearity problems or that the design matrix is singular."
          },
          "metadata": {},
          "execution_count": 173
        }
      ]
    },
    {
      "cell_type": "markdown",
      "source": [
        "### Forward Selection"
      ],
      "metadata": {
        "id": "8sXz9VVWGQI7"
      }
    },
    {
      "cell_type": "code",
      "source": [
        "\n",
        "\n",
        "# Function to process a subset of features\n",
        "def processSubset(feature_set, X, Y):\n",
        "    model = sm.OLS(Y, sm.add_constant(X[list(feature_set)]))\n",
        "    regr = model.fit()\n",
        "    RSS = sum(regr.resid ** 2)\n",
        "    return {'model': regr, 'RSS': RSS}\n",
        "\n",
        "# Forward selection function\n",
        "def forward(predictors, X, Y):\n",
        "    remaining_predictors = [p for p in X.columns if p not in predictors]\n",
        "\n",
        "    results = []\n",
        "\n",
        "    for p in remaining_predictors:\n",
        "        results.append(processSubset(predictors + [p], X, Y))\n",
        "    models = pd.DataFrame(results)\n",
        "\n",
        "    # Choose the model with the lowest RSS\n",
        "    best_model = models.loc[models['RSS'].argmin()]\n",
        "\n",
        "    return best_model\n",
        "\n",
        "# Forward selection procedure\n",
        "def forward_selection(X, Y):\n",
        "    predictors = []\n",
        "    models = []\n",
        "\n",
        "    for i in range(len(X.columns)):\n",
        "        best_model = forward(predictors, X, Y)\n",
        "        predictors = best_model['model'].model.exog_names[1:]\n",
        "        models.append(best_model)\n",
        "\n",
        "        print(f\"Step {i+1}: Selected predictors: {predictors}, RSS: {best_model['RSS']}\")\n",
        "\n",
        "    # Final selected model and predictors\n",
        "    final_model = models[-1]['model']\n",
        "    selected_predictors = models[-1]['model'].model.exog_names[1:]  # Get final list of predictors\n",
        "\n",
        "    return final_model, selected_predictors\n",
        "\n",
        "\n",
        "X = pd.DataFrame(X_train)\n",
        "Y = pd.DataFrame(y_train)\n",
        "\n",
        "# Run forward selection\n",
        "final_model, selected_predictors = forward_selection(X, Y)\n",
        "\n",
        "# Print final selected predictors\n",
        "print(\"Final selected predictors: \", selected_predictors)\n",
        "\n",
        "# Summary of the final model\n",
        "print(final_model.summary())"
      ],
      "metadata": {
        "colab": {
          "base_uri": "https://localhost:8080/",
          "height": 211
        },
        "id": "raAHO16jGRtL",
        "outputId": "0158f5fa-4987-4ce6-e29d-42136a39e059"
      },
      "execution_count": 1,
      "outputs": [
        {
          "output_type": "error",
          "ename": "NameError",
          "evalue": "name 'pd' is not defined",
          "traceback": [
            "\u001b[0;31m---------------------------------------------------------------------------\u001b[0m",
            "\u001b[0;31mNameError\u001b[0m                                 Traceback (most recent call last)",
            "\u001b[0;32m<ipython-input-1-fdf0f1460562>\u001b[0m in \u001b[0;36m<cell line: 42>\u001b[0;34m()\u001b[0m\n\u001b[1;32m     40\u001b[0m \u001b[0;34m\u001b[0m\u001b[0m\n\u001b[1;32m     41\u001b[0m \u001b[0;34m\u001b[0m\u001b[0m\n\u001b[0;32m---> 42\u001b[0;31m \u001b[0mX\u001b[0m \u001b[0;34m=\u001b[0m \u001b[0mpd\u001b[0m\u001b[0;34m.\u001b[0m\u001b[0mDataFrame\u001b[0m\u001b[0;34m(\u001b[0m\u001b[0mX_train\u001b[0m\u001b[0;34m)\u001b[0m\u001b[0;34m\u001b[0m\u001b[0;34m\u001b[0m\u001b[0m\n\u001b[0m\u001b[1;32m     43\u001b[0m \u001b[0mY\u001b[0m \u001b[0;34m=\u001b[0m \u001b[0mpd\u001b[0m\u001b[0;34m.\u001b[0m\u001b[0mDataFrame\u001b[0m\u001b[0;34m(\u001b[0m\u001b[0my_train\u001b[0m\u001b[0;34m)\u001b[0m\u001b[0;34m\u001b[0m\u001b[0;34m\u001b[0m\u001b[0m\n\u001b[1;32m     44\u001b[0m \u001b[0;34m\u001b[0m\u001b[0m\n",
            "\u001b[0;31mNameError\u001b[0m: name 'pd' is not defined"
          ]
        }
      ]
    }
  ]
}